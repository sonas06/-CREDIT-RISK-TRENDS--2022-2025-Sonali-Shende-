{
 "cells": [
  {
   "cell_type": "code",
   "execution_count": 18,
   "id": "1d258bc3",
   "metadata": {},
   "outputs": [
    {
     "name": "stdout",
     "output_type": "stream",
     "text": [
      "Datasets created successfully!\n"
     ]
    }
   ],
   "source": [
    "import pandas as pd\n",
    "import numpy as np\n",
    "from datetime import datetime\n",
    "\n",
    "# Set random seed for reproducibility\n",
    "np.random.seed(42)\n",
    "\n",
    "# Generate date range with economic trends\n",
    "years = np.random.choice(np.arange(2020, 2026), size=1000)\n",
    "\n",
    "# Simulate dataset with temporal trends\n",
    "data = {\n",
    "    'year': years,\n",
    "    'credit_score': np.clip(np.random.normal(650, 100, 1000) + (years-2020)*10, 300, 850).astype(int),\n",
    "    'annual_income': np.random.randint(20000, 200000, 1000) * (1 + 0.03*(years-2020)),\n",
    "    'total_debt': np.random.randint(5000, 150000, 1000) * (1 + 0.05*(years-2020)),\n",
    "    'loan_to_value_ratio': np.random.uniform(0.1, 1.5, 1000) * (1 + 0.01*(years-2020)),\n",
    "    'debt_to_income_ratio': np.random.uniform(0.1, 2.0, 1000),\n",
    "    'interest_rate': np.random.uniform(3.0, 7.0, 1000) + 0.1*(years-2020),\n",
    "    'unemployment_rate': np.random.uniform(3.5, 10.0, 1000) - 0.5*(years-2020),\n",
    "}\n",
    "\n",
    "# Create DataFrame first\n",
    "historical_df = pd.DataFrame(data)\n",
    "\n",
    "# Calculate default probabilities per year in a vectorized way\n",
    "historical_df['default_prob'] = 0.15 + 0.01*(historical_df['year'] - 2020)\n",
    "historical_df['default'] = [np.random.choice([0, 1], p=[1-p, p]) \n",
    "                          for p in historical_df['default_prob']]\n",
    "\n",
    "# Clean up temporary column\n",
    "historical_df.drop('default_prob', axis=1, inplace=True)\n",
    "\n",
    "# Add dates\n",
    "historical_df['date'] = historical_df['year'].apply(lambda y: datetime(y, np.random.randint(1,13), 1))\n",
    "\n",
    "# Create 2026 prediction data (future scenario)\n",
    "future_data = {\n",
    "    'year': [2026]*100,\n",
    "    'credit_score': np.clip(np.random.normal(700, 75, 100), 300, 850).astype(int),\n",
    "    'annual_income': np.random.randint(25000, 220000, 100) * 1.03**6,\n",
    "    'total_debt': np.random.randint(6000, 160000, 100) * 1.05**6,\n",
    "    'loan_to_value_ratio': np.random.uniform(0.15, 1.6, 100),\n",
    "    'debt_to_income_ratio': np.random.uniform(0.15, 2.2, 100),\n",
    "    'interest_rate': np.random.uniform(5.0, 8.0, 100),\n",
    "    'unemployment_rate': np.random.uniform(3.0, 8.0, 100),\n",
    "}\n",
    "\n",
    "future_df = pd.DataFrame(future_data)\n",
    "future_df['date'] = datetime(2026, 1, 1)\n",
    "\n",
    "# Save datasets\n",
    "historical_df.to_csv('historical_credit_data_2020-2025.csv', index=False)\n",
    "future_df.to_csv('prediction_data_2026.csv', index=False)\n",
    "\n",
    "print(\"Datasets created successfully!\")"
   ]
  },
  {
   "cell_type": "code",
   "execution_count": 19,
   "id": "415a48e5",
   "metadata": {},
   "outputs": [],
   "source": [
    "# Modified code with error handling\n",
    "import pandas as pd\n",
    "import numpy as np\n",
    "from sklearn.preprocessing import MinMaxScaler\n",
    "from sklearn.model_selection import train_test_split\n",
    "from sklearn.ensemble import RandomForestClassifier\n",
    "from sklearn.metrics import accuracy_score, classification_report, roc_auc_score\n",
    "\n",
    "# Load data\n",
    "df = pd.read_csv('credit_data.csv')\n",
    "\n",
    "# 1. Handle missing values and infinite values\n",
    "df.replace([np.inf, -np.inf], np.nan, inplace=True)  # Convert inf to NaN\n",
    "df.fillna(df.mean(), inplace=True)"
   ]
  },
  {
   "cell_type": "code",
   "execution_count": 20,
   "id": "bf9f75b6",
   "metadata": {},
   "outputs": [],
   "source": [
    "# 2. Create new feature safely\n",
    "df['debt_to_income'] = np.where(\n",
    "    df['annual_income'] == 0,  # Prevent division by zero\n",
    "    0,  # Default value when income is zero\n",
    "    df['total_debt'] / df['annual_income']\n",
    ")\n",
    "\n",
    "# 3. Split data BEFORE scaling\n",
    "X = df.drop('default', axis=1)\n",
    "y = df['default']\n",
    "X_train, X_test, y_train, y_test = train_test_split(X, y, test_size=0.2, random_state=42)"
   ]
  },
  {
   "cell_type": "code",
   "execution_count": 27,
   "id": "9d20bb66",
   "metadata": {},
   "outputs": [
    {
     "name": "stderr",
     "output_type": "stream",
     "text": [
      "C:\\Users\\DELL\\anaconda3\\lib\\site-packages\\pandas\\core\\frame.py:3678: SettingWithCopyWarning: \n",
      "A value is trying to be set on a copy of a slice from a DataFrame.\n",
      "Try using .loc[row_indexer,col_indexer] = value instead\n",
      "\n",
      "See the caveats in the documentation: https://pandas.pydata.org/pandas-docs/stable/user_guide/indexing.html#returning-a-view-versus-a-copy\n",
      "  self[col] = igetitem(value, i)\n",
      "C:\\Users\\DELL\\anaconda3\\lib\\site-packages\\pandas\\core\\frame.py:3678: SettingWithCopyWarning: \n",
      "A value is trying to be set on a copy of a slice from a DataFrame.\n",
      "Try using .loc[row_indexer,col_indexer] = value instead\n",
      "\n",
      "See the caveats in the documentation: https://pandas.pydata.org/pandas-docs/stable/user_guide/indexing.html#returning-a-view-versus-a-copy\n",
      "  self[col] = igetitem(value, i)\n"
     ]
    },
    {
     "name": "stdout",
     "output_type": "stream",
     "text": [
      "Missing values in training: 0\n",
      "Missing values in testing: 0\n"
     ]
    },
    {
     "data": {
      "text/plain": [
       "RandomForestClassifier(random_state=42)"
      ]
     },
     "execution_count": 27,
     "metadata": {},
     "output_type": "execute_result"
    }
   ],
   "source": [
    "# 4. Scale only numerical features after split\n",
    "numerical_features = ['credit_score', 'annual_income', 'total_debt', \n",
    "                     'loan_to_value_ratio', 'debt_to_income_ratio', 'debt_to_income']\n",
    "scaler = MinMaxScaler()\n",
    "X_train[numerical_features] = scaler.fit_transform(X_train[numerical_features])\n",
    "X_test[numerical_features] = scaler.transform(X_test[numerical_features])\n",
    "\n",
    "# 5. Final NaN check\n",
    "print(\"Missing values in training:\", X_train.isna().sum().sum())\n",
    "print(\"Missing values in testing:\", X_test.isna().sum().sum())\n",
    "\n",
    "# Train model\n",
    "model = RandomForestClassifier(random_state=42)\n",
    "model.fit(X_train, y_train)"
   ]
  },
  {
   "cell_type": "code",
   "execution_count": 22,
   "id": "cb0b7424",
   "metadata": {},
   "outputs": [
    {
     "name": "stdout",
     "output_type": "stream",
     "text": [
      "\n",
      "Accuracy: 0.845\n",
      "\n",
      "Classification Report:\n",
      "               precision    recall  f1-score   support\n",
      "\n",
      "           0       0.85      0.99      0.92       170\n",
      "           1       0.00      0.00      0.00        30\n",
      "\n",
      "    accuracy                           0.84       200\n",
      "   macro avg       0.42      0.50      0.46       200\n",
      "weighted avg       0.72      0.84      0.78       200\n",
      "\n"
     ]
    }
   ],
   "source": [
    "# Evaluate\n",
    "y_pred = model.predict(X_test)\n",
    "print(\"\\nAccuracy:\", accuracy_score(y_test, y_pred))\n",
    "print(\"\\nClassification Report:\\n\", classification_report(y_test, y_pred))"
   ]
  },
  {
   "cell_type": "code",
   "execution_count": 23,
   "id": "57018c58",
   "metadata": {},
   "outputs": [],
   "source": [
    "# Predict future scenarios (example)\n",
    "future_data = pd.DataFrame({\n",
    "    'credit_score': [0.8], \n",
    "    'annual_income': [0.6],\n",
    "    'total_debt': [0.7],\n",
    "    'loan_to_value_ratio': [1.2],\n",
    "    'debt_to_income_ratio': [0.5],\n",
    "    'debt_to_income': [0.4]\n",
    "})"
   ]
  },
  {
   "cell_type": "code",
   "execution_count": 24,
   "id": "93063649",
   "metadata": {},
   "outputs": [
    {
     "name": "stdout",
     "output_type": "stream",
     "text": [
      "\n",
      "Predicted Risk for Future Scenario: Low Risk\n"
     ]
    }
   ],
   "source": [
    "future_risk = model.predict(future_data)\n",
    "print(\"\\nPredicted Risk for Future Scenario:\", \"High Risk\" if future_risk[0] else \"Low Risk\")"
   ]
  },
  {
   "cell_type": "code",
   "execution_count": 25,
   "id": "16fe1dfe",
   "metadata": {},
   "outputs": [],
   "source": []
  },
  {
   "cell_type": "code",
   "execution_count": null,
   "id": "1b654f84",
   "metadata": {},
   "outputs": [],
   "source": []
  }
 ],
 "metadata": {
  "kernelspec": {
   "display_name": "Python 3 (ipykernel)",
   "language": "python",
   "name": "python3"
  },
  "language_info": {
   "codemirror_mode": {
    "name": "ipython",
    "version": 3
   },
   "file_extension": ".py",
   "mimetype": "text/x-python",
   "name": "python",
   "nbconvert_exporter": "python",
   "pygments_lexer": "ipython3",
   "version": "3.9.7"
  }
 },
 "nbformat": 4,
 "nbformat_minor": 5
}
